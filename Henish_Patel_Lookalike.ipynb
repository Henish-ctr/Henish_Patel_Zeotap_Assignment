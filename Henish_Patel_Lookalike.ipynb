{
 "cells": [
  {
   "cell_type": "code",
   "execution_count": 25,
   "id": "14d5de2c-a5ab-47ac-885d-b659cf013af6",
   "metadata": {},
   "outputs": [],
   "source": [
    "import pandas as pd\n",
    "from sklearn.metrics.pairwise import cosine_similarity\n",
    "from sklearn.preprocessing import StandardScaler\n",
    "import numpy as np\n",
    "customers = pd.read_csv(r\"C:\\Users\\henis\\Downloads\\Customers.csv\")\n",
    "products = pd.read_csv(r\"C:\\Users\\henis\\Downloads\\Products.csv\")\n",
    "transactions = pd.read_csv(r\"C:\\Users\\henis\\Downloads\\Transactions.csv\")"
   ]
  },
  {
   "cell_type": "code",
   "execution_count": 27,
   "id": "bb515862-34f0-404f-b148-b113294a4751",
   "metadata": {},
   "outputs": [],
   "source": [
    "#Merging the datasets\n",
    "transactions_products = pd.merge(transactions, products, on=\"ProductID\")\n",
    "data = pd.merge(transactions_products, customers, on=\"CustomerID\")"
   ]
  },
  {
   "cell_type": "code",
   "execution_count": 29,
   "id": "145ff086-32b3-4037-a3c6-4df145c6d1e8",
   "metadata": {},
   "outputs": [],
   "source": [
    "#Featuring\n",
    "customer_features = data.groupby('CustomerID').agg({\n",
    "    'TotalValue': 'mean',   \n",
    "    'TransactionID': 'count',  \n",
    "    'Category': lambda x: x.nunique(),  \n",
    "    'Region': lambda x: x.mode()[0]  # Dominant region \n",
    "}).rename(columns={\n",
    "    'TotalValue': 'AvgTransactionValue',\n",
    "    'TransactionID': 'PurchaseFrequency',\n",
    "    'Category': 'UniqueCategories'\n",
    "}).reset_index()"
   ]
  },
  {
   "cell_type": "code",
   "execution_count": 31,
   "id": "ab88fb34-8f45-49ba-aaf4-d278a02fb1bd",
   "metadata": {},
   "outputs": [],
   "source": [
    "#Categorical feature\n",
    "customer_features = pd.get_dummies(customer_features, columns=['Region'])\n",
    "\n",
    "#Numerical feature \n",
    "scaler = StandardScaler()\n",
    "scaled_features = scaler.fit_transform(customer_features.iloc[:, 1:])\n",
    "\n",
    "#Calculating the cosine similarity\n",
    "similarity_matrix = cosine_similarity(scaled_features)"
   ]
  },
  {
   "cell_type": "code",
   "execution_count": 33,
   "id": "c510d662-d2ea-4538-b42b-17ef5ac1827b",
   "metadata": {},
   "outputs": [],
   "source": [
    "#Top 3 lookalikes from 20 customers\n",
    "lookalike_results = {}\n",
    "\n",
    "for idx, cust_id in enumerate(customer_features['CustomerID'][:20]):\n",
    "    #Similarity score for the current customer\n",
    "    similarity_scores = similarity_matrix[idx]\n",
    "    #Rank customers by similarity (exclude self)\n",
    "    similar_customers = np.argsort(similarity_scores)[::-1][1:4]\n",
    "    #Top 3 customers with their scores\n",
    "    lookalike_results[cust_id] = [\n",
    "        (customer_features.iloc[i]['CustomerID'], similarity_scores[i]) \n",
    "        for i in similar_customers\n",
    "    ]\n"
   ]
  },
  {
   "cell_type": "code",
   "execution_count": 35,
   "id": "e96971fb-2ea7-47b0-b10e-a12ccd40d3de",
   "metadata": {},
   "outputs": [],
   "source": [
    "#Dataframe for lookalike.csv\n",
    "lookalike_data = {\n",
    "    \"cust_id\": [],\n",
    "    \"lookalike_list\": []\n",
    "}\n",
    "\n",
    "for cust_id, similar_list in lookalike_results.items():\n",
    "    lookalike_data[\"cust_id\"].append(cust_id)\n",
    "    lookalike_data[\"lookalike_list\"].append(similar_list)\n",
    "\n",
    "lookalike_df = pd.DataFrame(lookalike_data)\n",
    "\n",
    "# Saving the results to Lookalike.csv\n",
    "lookalike_csv_path = r\"C:\\Users\\henis\\Desktop\\zeotap\\Lookalike.csv\"\n",
    "lookalike_df.to_csv(lookalike_csv_path, index=False)"
   ]
  }
 ],
 "metadata": {
  "kernelspec": {
   "display_name": "Python 3 (ipykernel)",
   "language": "python",
   "name": "python3"
  },
  "language_info": {
   "codemirror_mode": {
    "name": "ipython",
    "version": 3
   },
   "file_extension": ".py",
   "mimetype": "text/x-python",
   "name": "python",
   "nbconvert_exporter": "python",
   "pygments_lexer": "ipython3",
   "version": "3.12.4"
  }
 },
 "nbformat": 4,
 "nbformat_minor": 5
}
